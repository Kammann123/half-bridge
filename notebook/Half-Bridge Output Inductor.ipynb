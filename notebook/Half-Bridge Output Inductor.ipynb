{
 "cells": [
  {
   "cell_type": "code",
   "execution_count": 172,
   "id": "be024893-045d-45b6-9810-304e02845744",
   "metadata": {},
   "outputs": [],
   "source": [
    "import matplotlib.pyplot as plt"
   ]
  },
  {
   "cell_type": "code",
   "execution_count": 173,
   "id": "11a1fc0b-91e9-4b98-8521-0a3ef92812f0",
   "metadata": {},
   "outputs": [],
   "source": [
    "import numpy as np"
   ]
  },
  {
   "cell_type": "code",
   "execution_count": 174,
   "id": "f6adefe9-a70f-42a9-a0d6-fec32b757fc0",
   "metadata": {},
   "outputs": [],
   "source": [
    "# Converter Parameters\n",
    "Vo = 300\n",
    "D = 0.5\n",
    "fsw = 100e3"
   ]
  },
  {
   "cell_type": "code",
   "execution_count": 175,
   "id": "3e966249-9461-4a90-9830-19815eac9a68",
   "metadata": {},
   "outputs": [],
   "source": [
    "# Core Parameters\n",
    "cores = {\n",
    "    'RM8 (N87)': {\n",
    "        'Bmax': 300e-3,\n",
    "        'Amin': 55e-6,\n",
    "        'AL': 3300e-9\n",
    "    },\n",
    "    'E4012 (CF196)': {\n",
    "        'Bmax': 350e-3,\n",
    "        'Amin': 136.8e-6,\n",
    "        'AL': 4000e-9\n",
    "    },\n",
    "    'E4221 (N87)': {\n",
    "        'Bmax': 300e-3,\n",
    "        'Amin': 229e-6,\n",
    "        'AL': 5200e-9\n",
    "    }, \n",
    "    'E5521 (N27)': {\n",
    "        'Bmax': 350e-3,\n",
    "        'Amin': 351e-6,\n",
    "        'AL': 5800e-9 \n",
    "    }\n",
    "}"
   ]
  },
  {
   "cell_type": "code",
   "execution_count": 176,
   "id": "591f70e8-f30b-476a-a58e-7db34808ffbb",
   "metadata": {},
   "outputs": [],
   "source": [
    "# Core Parameters\n",
    "core = 'E4012 (CF196)'\n",
    "Bmax = cores[core]['Bmax']\n",
    "Amin = cores[core]['Amin']\n",
    "AL = cores[core]['AL']"
   ]
  },
  {
   "cell_type": "code",
   "execution_count": 177,
   "id": "d1d47c9e-3387-4fbc-bf32-34b1787f72c5",
   "metadata": {},
   "outputs": [],
   "source": [
    "N_MIN = 20\n",
    "N_MAX = 100 \n",
    "N = np.linspace(N_MIN, N_MAX, N_MAX - N_MIN + 1)"
   ]
  },
  {
   "cell_type": "code",
   "execution_count": 178,
   "id": "dc2a9dc2-d56b-4dd9-81f6-32e07353747c",
   "metadata": {},
   "outputs": [],
   "source": [
    "Iomax = ((Bmax * Amin) / (N * AL)) - ((Vo * (1-D))/(2 * (N**2) * fsw * AL))"
   ]
  },
  {
   "cell_type": "code",
   "execution_count": 179,
   "id": "99515fca-03ef-415f-aee8-a67f7eab3946",
   "metadata": {},
   "outputs": [],
   "source": [
    "Iomin = (Vo * (1-D)) / (2 * fsw * (N**2) * AL)"
   ]
  },
  {
   "cell_type": "code",
   "execution_count": 180,
   "id": "6a05146b-536c-40e9-b6d5-27e8a02e3226",
   "metadata": {},
   "outputs": [],
   "source": [
    "Iovalid = Iomax[Iomax > Iomin]\n",
    "Io = Iovalid.max()\n",
    "Nopt = N[np.where(Iomax == Io)]"
   ]
  },
  {
   "cell_type": "code",
   "execution_count": 181,
   "id": "498c1eea-8715-4a47-afae-6e2437257dbf",
   "metadata": {},
   "outputs": [
    {
     "name": "stdout",
     "output_type": "stream",
     "text": [
      "Best choice at N = [32.] obtains Io = 190.957 mA\n"
     ]
    }
   ],
   "source": [
    "print(f'Best choice at N = {Nopt} obtains Io = {np.round(Io * 1e3, 3)} mA')"
   ]
  },
  {
   "cell_type": "code",
   "execution_count": 182,
   "id": "3825a2c6-1af9-41ab-a275-b22650d4e767",
   "metadata": {},
   "outputs": [
    {
     "data": {
      "image/png": "[encoded data removed]",
      "text/plain": [
       "<Figure size 720x360 with 1 Axes>"
      ]
     },
     "metadata": {
      "needs_background": "light"
     },
     "output_type": "display_data"
    }
   ],
   "source": [
    "plt.figure(figsize=(10, 5))\n",
    "plt.plot(N, Iomin * 1e3, label='$I_{o_{min}}$')\n",
    "plt.plot(N, Iomax * 1e3, label='$I_o|_{B_{sat}}$')\n",
    "plt.plot(Nopt, Io * 1e3, marker='o', markersize=7, color='red', label='$I_{o_{max}}$')\n",
    "plt.ylabel('I [mA]', fontsize=15)\n",
    "plt.xlabel('N', fontsize=15)\n",
    "plt.legend(fontsize=20)\n",
    "plt.grid()\n",
    "plt.savefig(f'core_{core}', dpi=300)\n",
    "plt.show()"
   ]
  },
  {
   "cell_type": "code",
   "execution_count": 183,
   "id": "fd4e74f1-7d48-4d1f-b129-6b3eda8c3b22",
   "metadata": {},
   "outputs": [
    {
     "name": "stdout",
     "output_type": "stream",
     "text": [
      "Choice: N = 40 - Iomin = [117.188] mA - Iomax = [182.063] mA\n"
     ]
    }
   ],
   "source": [
    "Nchoice = 40\n",
    "Iomaxchoice = Iomax[np.where(N == Nchoice)]\n",
    "Iominchoice = Iomin[np.where(N == Nchoice)]\n",
    "\n",
    "print(f'Choice: N = {Nchoice} - Iomin = {np.round(Iominchoice * 1e3, 3)} mA - Iomax = {np.round(Iomaxchoice * 1e3, 3)} mA')"
   ]
  }
 ],
 "metadata": {
  "kernelspec": {
   "display_name": "Python 3 (ipykernel)",
   "language": "python",
   "name": "python3"
  },
  "language_info": {
   "codemirror_mode": {
    "name": "ipython",
    "version": 3
   },
   "file_extension": ".py",
   "mimetype": "text/x-python",
   "name": "python",
   "nbconvert_exporter": "python",
   "pygments_lexer": "ipython3",
   "version": "3.10.0"
  }
 },
 "nbformat": 4,
 "nbformat_minor": 5
}
